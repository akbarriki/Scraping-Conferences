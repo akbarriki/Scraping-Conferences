{
  "nbformat": 4,
  "nbformat_minor": 0,
  "metadata": {
    "colab": {
      "provenance": [],
      "authorship_tag": "ABX9TyP47nw5Ly6EW/AY/EKO/KKI",
      "include_colab_link": true
    },
    "kernelspec": {
      "name": "python3",
      "display_name": "Python 3"
    },
    "language_info": {
      "name": "python"
    }
  },
  "cells": [
    {
      "cell_type": "markdown",
      "metadata": {
        "id": "view-in-github",
        "colab_type": "text"
      },
      "source": [
        "<a href=\"https://colab.research.google.com/github/akbarriki/Scraping-Conferences/blob/main/Scraping_Conferences.ipynb\" target=\"_parent\"><img src=\"https://colab.research.google.com/assets/colab-badge.svg\" alt=\"Open In Colab\"/></a>"
      ]
    },
    {
      "cell_type": "markdown",
      "source": [
        "## Initialisation"
      ],
      "metadata": {
        "id": "c_KLg6AvczRk"
      }
    },
    {
      "cell_type": "code",
      "execution_count": 54,
      "metadata": {
        "id": "PdmrJF26SL6x"
      },
      "outputs": [],
      "source": [
        "import requests, time\n",
        "import pandas as pd\n",
        "from bs4 import BeautifulSoup\n",
        "from datetime import datetime, date\n",
        "from tqdm import tqdm\n",
        "\n",
        "base_url = 'https://conferenceindex.org/'\n",
        "dest_url = f'{base_url}conferences?page='\n",
        "\n",
        "def scraping(url=dest_url, page=1):\n",
        "  records = []\n",
        "  maxpage = None\n",
        "  resp = requests.get(url+str(page))\n",
        "  \n",
        "  if resp.status_code == 200:\n",
        "    soup = BeautifulSoup(resp.content, 'html.parser')\n",
        "\n",
        "    if current_page == 1:\n",
        "      # get maximum number of pages to scrape\n",
        "      maxpage = int(soup.find_all(\"a\",{\"class\":\"page-link\"})[-2].get_text().strip())\n",
        "  \n",
        "    # get month and year conferences will be held\n",
        "    month, year = [entry.strip() for entry in soup.find(\"div\",{\"class\":\"card-header\"}).get_text().strip().split(\",\")]\n",
        "\n",
        "    for li in soup.find(\"ul\",{\"class\":\"list-unstyled\"}).find_all(\"li\"):\n",
        "      dct = {}\n",
        "      date = li.next.strip().split()[-1]\n",
        "      \n",
        "      # get the exact conference date\n",
        "      dct['conf_date'] = datetime.strftime(datetime.strptime(date+'-'+month+'-'+year, \"%d-%B-%Y\"), \"%d-%m-%Y\")\n",
        "      \n",
        "      # get the conference dedicated page at conferenceindex.org  \n",
        "      dct['conf_link'] = li.find(\"a\")['href']\n",
        "\n",
        "      # get the conference name\n",
        "      dct['conf_name'] = li.find(\"a\").get_text().strip()\n",
        "\n",
        "      # get the city and country each conference will be held\n",
        "      dct['conf_city'], dct['conf_country'] = [entry.strip() for entry in li.find(\"a\").nextSibling.replace(\"-\",\"\").strip().split(\",\")]\n",
        "      records.append(dct)\n",
        "  return records, maxpage"
      ]
    },
    {
      "cell_type": "markdown",
      "source": [
        "### Scraping"
      ],
      "metadata": {
        "id": "VKb9Ub0dd9FL"
      }
    },
    {
      "cell_type": "code",
      "source": [
        "conferences = [] # all conferences will be stored in this list\n",
        "current_page = 1 # initial current page\n",
        "max_page = 99 # initial maximum number of pages\n",
        "factor = 10 # the number of pages at which the scraping notification text appears. By default, the scraping notification appears at every 10 scraped pages\n",
        "\n",
        "while current_page <= max_page:\n",
        "  if current_page == 1 or current_page % factor == 1:\n",
        "    last_factor_page = (current_page + factor) - 1\n",
        "    print(f\"Scraping Page {current_page} to {last_factor_page} ... \", end=\"\")\n",
        "\n",
        "  if current_page == 1:\n",
        "    records, max_page = scraping(page=current_page)\n",
        "    max_page = 100 # scraping first 100 pages\n",
        "  else:\n",
        "    records, _ = scraping(page=current_page)\n",
        "  \n",
        "  if records:\n",
        "    conferences += records\n",
        "  \n",
        "  if current_page % factor == 0:\n",
        "    print(\"done\")  \n",
        "  current_page += 1\n",
        "\n",
        "print()\n",
        "print(f\"Scraping complete. {len(conferences)} conferences has been collected.\")"
      ],
      "metadata": {
        "colab": {
          "base_uri": "https://localhost:8080/"
        },
        "id": "vu881D54SgZ6",
        "outputId": "3dc159ae-80ad-40c8-a94f-27ad565d29b2"
      },
      "execution_count": 58,
      "outputs": [
        {
          "output_type": "stream",
          "name": "stdout",
          "text": [
            "Scraping Page 1 to 10 ... done\n",
            "Scraping Page 11 to 20 ... done\n",
            "Scraping Page 21 to 30 ... done\n",
            "Scraping Page 31 to 40 ... done\n",
            "Scraping Page 41 to 50 ... done\n",
            "Scraping Page 51 to 60 ... done\n",
            "Scraping Page 61 to 70 ... done\n",
            "Scraping Page 71 to 80 ... done\n",
            "Scraping Page 81 to 90 ... done\n",
            "Scraping Page 91 to 100 ... done\n",
            "\n",
            "Scraping complete. 49632 conferences has been collected.\n"
          ]
        }
      ]
    },
    {
      "cell_type": "markdown",
      "source": [
        "### Sanity Check"
      ],
      "metadata": {
        "id": "MaDWCSzpd-4y"
      }
    },
    {
      "cell_type": "code",
      "source": [
        "df = pd.DataFrame(conferences)\n",
        "df.sample(10)"
      ],
      "metadata": {
        "colab": {
          "base_uri": "https://localhost:8080/",
          "height": 363
        },
        "id": "eCAwrgs9eAZ4",
        "outputId": "a92267f4-0bd7-4643-ec98-be7afcec5343"
      },
      "execution_count": 61,
      "outputs": [
        {
          "output_type": "execute_result",
          "data": {
            "text/plain": [
              "        conf_date                                          conf_link  \\\n",
              "36761  06-03-2023  https://conferenceindex.org/event/internationa...   \n",
              "1056   06-02-2023  https://conferenceindex.org/event/internationa...   \n",
              "22244  20-02-2023  https://conferenceindex.org/event/internationa...   \n",
              "18613  18-02-2023  https://conferenceindex.org/event/internationa...   \n",
              "48200  22-03-2023  https://conferenceindex.org/event/internationa...   \n",
              "30478  25-02-2023  https://conferenceindex.org/event/internationa...   \n",
              "6068   11-02-2023  https://conferenceindex.org/event/internationa...   \n",
              "32569  04-03-2023  https://conferenceindex.org/event/internationa...   \n",
              "24119  22-02-2023  https://conferenceindex.org/event/internationa...   \n",
              "22057  20-02-2023  https://conferenceindex.org/event/internationa...   \n",
              "\n",
              "                                               conf_name       conf_city  \\\n",
              "36761  International Conference on Pedagogy and Psych...            Rome   \n",
              "1056   International Conference on Mycology, Fungi an...    Kuala Lumpur   \n",
              "22244  International Conference on Aeronautics and Ae...            Rome   \n",
              "18613  International Conference on Computer Security ...            Rome   \n",
              "48200  International Conference on Traffic Safety Stu...        Istanbul   \n",
              "30478  International Conference on Information Visual...          Sydney   \n",
              "6068   International Conference on Labor Economics an...       Barcelona   \n",
              "32569  International Conference on Environmental Poll...  Rio de Janeiro   \n",
              "24119  International Conference on Behaviour and Beha...           Paris   \n",
              "22057  International Conference on Dementia and Alzhe...    Buenos Aires   \n",
              "\n",
              "      conf_country  \n",
              "36761        Italy  \n",
              "1056      Malaysia  \n",
              "22244        Italy  \n",
              "18613        Italy  \n",
              "48200       Turkey  \n",
              "30478    Australia  \n",
              "6068         Spain  \n",
              "32569       Brazil  \n",
              "24119       France  \n",
              "22057    Argentina  "
            ],
            "text/html": [
              "\n",
              "  <div id=\"df-ef3ff0d6-8b6e-4064-a6d0-0b5ff74a524b\">\n",
              "    <div class=\"colab-df-container\">\n",
              "      <div>\n",
              "<style scoped>\n",
              "    .dataframe tbody tr th:only-of-type {\n",
              "        vertical-align: middle;\n",
              "    }\n",
              "\n",
              "    .dataframe tbody tr th {\n",
              "        vertical-align: top;\n",
              "    }\n",
              "\n",
              "    .dataframe thead th {\n",
              "        text-align: right;\n",
              "    }\n",
              "</style>\n",
              "<table border=\"1\" class=\"dataframe\">\n",
              "  <thead>\n",
              "    <tr style=\"text-align: right;\">\n",
              "      <th></th>\n",
              "      <th>conf_date</th>\n",
              "      <th>conf_link</th>\n",
              "      <th>conf_name</th>\n",
              "      <th>conf_city</th>\n",
              "      <th>conf_country</th>\n",
              "    </tr>\n",
              "  </thead>\n",
              "  <tbody>\n",
              "    <tr>\n",
              "      <th>36761</th>\n",
              "      <td>06-03-2023</td>\n",
              "      <td>https://conferenceindex.org/event/internationa...</td>\n",
              "      <td>International Conference on Pedagogy and Psych...</td>\n",
              "      <td>Rome</td>\n",
              "      <td>Italy</td>\n",
              "    </tr>\n",
              "    <tr>\n",
              "      <th>1056</th>\n",
              "      <td>06-02-2023</td>\n",
              "      <td>https://conferenceindex.org/event/internationa...</td>\n",
              "      <td>International Conference on Mycology, Fungi an...</td>\n",
              "      <td>Kuala Lumpur</td>\n",
              "      <td>Malaysia</td>\n",
              "    </tr>\n",
              "    <tr>\n",
              "      <th>22244</th>\n",
              "      <td>20-02-2023</td>\n",
              "      <td>https://conferenceindex.org/event/internationa...</td>\n",
              "      <td>International Conference on Aeronautics and Ae...</td>\n",
              "      <td>Rome</td>\n",
              "      <td>Italy</td>\n",
              "    </tr>\n",
              "    <tr>\n",
              "      <th>18613</th>\n",
              "      <td>18-02-2023</td>\n",
              "      <td>https://conferenceindex.org/event/internationa...</td>\n",
              "      <td>International Conference on Computer Security ...</td>\n",
              "      <td>Rome</td>\n",
              "      <td>Italy</td>\n",
              "    </tr>\n",
              "    <tr>\n",
              "      <th>48200</th>\n",
              "      <td>22-03-2023</td>\n",
              "      <td>https://conferenceindex.org/event/internationa...</td>\n",
              "      <td>International Conference on Traffic Safety Stu...</td>\n",
              "      <td>Istanbul</td>\n",
              "      <td>Turkey</td>\n",
              "    </tr>\n",
              "    <tr>\n",
              "      <th>30478</th>\n",
              "      <td>25-02-2023</td>\n",
              "      <td>https://conferenceindex.org/event/internationa...</td>\n",
              "      <td>International Conference on Information Visual...</td>\n",
              "      <td>Sydney</td>\n",
              "      <td>Australia</td>\n",
              "    </tr>\n",
              "    <tr>\n",
              "      <th>6068</th>\n",
              "      <td>11-02-2023</td>\n",
              "      <td>https://conferenceindex.org/event/internationa...</td>\n",
              "      <td>International Conference on Labor Economics an...</td>\n",
              "      <td>Barcelona</td>\n",
              "      <td>Spain</td>\n",
              "    </tr>\n",
              "    <tr>\n",
              "      <th>32569</th>\n",
              "      <td>04-03-2023</td>\n",
              "      <td>https://conferenceindex.org/event/internationa...</td>\n",
              "      <td>International Conference on Environmental Poll...</td>\n",
              "      <td>Rio de Janeiro</td>\n",
              "      <td>Brazil</td>\n",
              "    </tr>\n",
              "    <tr>\n",
              "      <th>24119</th>\n",
              "      <td>22-02-2023</td>\n",
              "      <td>https://conferenceindex.org/event/internationa...</td>\n",
              "      <td>International Conference on Behaviour and Beha...</td>\n",
              "      <td>Paris</td>\n",
              "      <td>France</td>\n",
              "    </tr>\n",
              "    <tr>\n",
              "      <th>22057</th>\n",
              "      <td>20-02-2023</td>\n",
              "      <td>https://conferenceindex.org/event/internationa...</td>\n",
              "      <td>International Conference on Dementia and Alzhe...</td>\n",
              "      <td>Buenos Aires</td>\n",
              "      <td>Argentina</td>\n",
              "    </tr>\n",
              "  </tbody>\n",
              "</table>\n",
              "</div>\n",
              "      <button class=\"colab-df-convert\" onclick=\"convertToInteractive('df-ef3ff0d6-8b6e-4064-a6d0-0b5ff74a524b')\"\n",
              "              title=\"Convert this dataframe to an interactive table.\"\n",
              "              style=\"display:none;\">\n",
              "        \n",
              "  <svg xmlns=\"http://www.w3.org/2000/svg\" height=\"24px\"viewBox=\"0 0 24 24\"\n",
              "       width=\"24px\">\n",
              "    <path d=\"M0 0h24v24H0V0z\" fill=\"none\"/>\n",
              "    <path d=\"M18.56 5.44l.94 2.06.94-2.06 2.06-.94-2.06-.94-.94-2.06-.94 2.06-2.06.94zm-11 1L8.5 8.5l.94-2.06 2.06-.94-2.06-.94L8.5 2.5l-.94 2.06-2.06.94zm10 10l.94 2.06.94-2.06 2.06-.94-2.06-.94-.94-2.06-.94 2.06-2.06.94z\"/><path d=\"M17.41 7.96l-1.37-1.37c-.4-.4-.92-.59-1.43-.59-.52 0-1.04.2-1.43.59L10.3 9.45l-7.72 7.72c-.78.78-.78 2.05 0 2.83L4 21.41c.39.39.9.59 1.41.59.51 0 1.02-.2 1.41-.59l7.78-7.78 2.81-2.81c.8-.78.8-2.07 0-2.86zM5.41 20L4 18.59l7.72-7.72 1.47 1.35L5.41 20z\"/>\n",
              "  </svg>\n",
              "      </button>\n",
              "      \n",
              "  <style>\n",
              "    .colab-df-container {\n",
              "      display:flex;\n",
              "      flex-wrap:wrap;\n",
              "      gap: 12px;\n",
              "    }\n",
              "\n",
              "    .colab-df-convert {\n",
              "      background-color: #E8F0FE;\n",
              "      border: none;\n",
              "      border-radius: 50%;\n",
              "      cursor: pointer;\n",
              "      display: none;\n",
              "      fill: #1967D2;\n",
              "      height: 32px;\n",
              "      padding: 0 0 0 0;\n",
              "      width: 32px;\n",
              "    }\n",
              "\n",
              "    .colab-df-convert:hover {\n",
              "      background-color: #E2EBFA;\n",
              "      box-shadow: 0px 1px 2px rgba(60, 64, 67, 0.3), 0px 1px 3px 1px rgba(60, 64, 67, 0.15);\n",
              "      fill: #174EA6;\n",
              "    }\n",
              "\n",
              "    [theme=dark] .colab-df-convert {\n",
              "      background-color: #3B4455;\n",
              "      fill: #D2E3FC;\n",
              "    }\n",
              "\n",
              "    [theme=dark] .colab-df-convert:hover {\n",
              "      background-color: #434B5C;\n",
              "      box-shadow: 0px 1px 3px 1px rgba(0, 0, 0, 0.15);\n",
              "      filter: drop-shadow(0px 1px 2px rgba(0, 0, 0, 0.3));\n",
              "      fill: #FFFFFF;\n",
              "    }\n",
              "  </style>\n",
              "\n",
              "      <script>\n",
              "        const buttonEl =\n",
              "          document.querySelector('#df-ef3ff0d6-8b6e-4064-a6d0-0b5ff74a524b button.colab-df-convert');\n",
              "        buttonEl.style.display =\n",
              "          google.colab.kernel.accessAllowed ? 'block' : 'none';\n",
              "\n",
              "        async function convertToInteractive(key) {\n",
              "          const element = document.querySelector('#df-ef3ff0d6-8b6e-4064-a6d0-0b5ff74a524b');\n",
              "          const dataTable =\n",
              "            await google.colab.kernel.invokeFunction('convertToInteractive',\n",
              "                                                     [key], {});\n",
              "          if (!dataTable) return;\n",
              "\n",
              "          const docLinkHtml = 'Like what you see? Visit the ' +\n",
              "            '<a target=\"_blank\" href=https://colab.research.google.com/notebooks/data_table.ipynb>data table notebook</a>'\n",
              "            + ' to learn more about interactive tables.';\n",
              "          element.innerHTML = '';\n",
              "          dataTable['output_type'] = 'display_data';\n",
              "          await google.colab.output.renderOutput(dataTable, element);\n",
              "          const docLink = document.createElement('div');\n",
              "          docLink.innerHTML = docLinkHtml;\n",
              "          element.appendChild(docLink);\n",
              "        }\n",
              "      </script>\n",
              "    </div>\n",
              "  </div>\n",
              "  "
            ]
          },
          "metadata": {},
          "execution_count": 61
        }
      ]
    },
    {
      "cell_type": "markdown",
      "source": [
        "### Export to CSV"
      ],
      "metadata": {
        "id": "55LKQ5H4eVYn"
      }
    },
    {
      "cell_type": "code",
      "source": [
        "df.to_csv(\"conferences.csv\", index=False, sep=\"|\")"
      ],
      "metadata": {
        "id": "n8ExfQ3NeXSi"
      },
      "execution_count": 63,
      "outputs": []
    }
  ]
}